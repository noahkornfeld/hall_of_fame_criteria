{
 "cells": [
  {
   "cell_type": "markdown",
   "metadata": {},
   "source": [
    "#Code to combine all of the NBA data into one csv file to be used for analysis and visualization"
   ]
  },
  {
   "cell_type": "code",
   "execution_count": 3,
   "metadata": {},
   "outputs": [
    {
     "name": "stdout",
     "output_type": "stream",
     "text": [
      "Aggregated totals successfully written to /Users/noahkornfeld/Desktop/hof_criteria/dataset_combination_code/final_datasets/nba_data_FINAL.csv\n",
      "Per Game totals successfully written to /Users/noahkornfeld/Desktop/hof_criteria/dataset_combination_code/final_datasets/nba_data_FINAL.csv\n",
      "All Star Selections successfully written to /Users/noahkornfeld/Desktop/hof_criteria/dataset_combination_code/final_datasets/nba_data_FINAL.csv\n",
      "Award totals successfully written to /Users/noahkornfeld/Desktop/hof_criteria/dataset_combination_code/final_datasets/nba_data_FINAL.csv\n",
      "Championships/Appearance/fmvps successfully written to /Users/noahkornfeld/Desktop/hof_criteria/dataset_combination_code/final_datasets/nba_data_FINAL.csv\n",
      "Hall of Fame successfully written to /Users/noahkornfeld/Desktop/hof_criteria/dataset_combination_code/final_datasets/nba_data_FINAL.csv\n",
      "Reordered Columns successfully written to /Users/noahkornfeld/Desktop/hof_criteria/dataset_combination_code/final_datasets/nba_data_FINAL.csv\n"
     ]
    }
   ],
   "source": [
    "\n",
    "from NBA_dataset_combo import aggregate_player_totals,  calculate_percentages_and_per_game_stats, count_all_star_appearances, award_counter, rings_appearances_counter, hall_of_fame, reorder_columns\n",
    "\n",
    "#Paths for Dataset Combinations\n",
    "input_csv_path = '/Users/noahkornfeld/Desktop/hof_criteria/nba/player_totals_by_year.csv'\n",
    "output_csv_path = '/Users/noahkornfeld/Desktop/hof_criteria/dataset_combination_code/final_datasets/nba_data_FINAL.csv'\n",
    "all_star_path = '/Users/noahkornfeld/Desktop/hof_criteria/nba/all_stars_by_year.csv'\n",
    "award_path = '/Users/noahkornfeld/Desktop/hof_criteria/nba/awards_by_year.csv'\n",
    "loses_path = '/Users/noahkornfeld/Desktop/hof_criteria/nba/finals_losers.csv'\n",
    "wins_path = '/Users/noahkornfeld/Desktop/hof_criteria/nba/finals_winners.csv'\n",
    "hof_path = '/Users/noahkornfeld/Desktop/hof_criteria/nba/hof_players.csv'\n",
    "\n",
    "#Aggregate Player Total Hardcoded Columns\n",
    "sum_columns = ['g', 'gs', 'mp', 'fg', 'fga', 'x3p', 'x3pa', 'x2p', 'x2pa', 'ft', 'fta', \n",
    "               'orb', 'drb', 'trb', 'ast', 'stl', 'blk', 'tov', 'pf', 'pts' ]  # Columns to sum\n",
    "keep_columns = ['player_id', 'player', 'pos', 'lg', ]  # Columns to keep the first occurrence\n",
    "max_columns = ['age', 'experience']  # Columns to keep the maximum value\n",
    "concat_columns = ['tm']  # String columns to concatenate\n",
    "year_column = 'season'  # Column to concatenate min and max values with a dash\n",
    "\n",
    "#various csv altering functions\n",
    "aggregate_player_totals(input_csv_path, output_csv_path, sum_columns, keep_columns, max_columns, concat_columns, year_column)\n",
    "calculate_percentages_and_per_game_stats(output_csv_path)\n",
    "count_all_star_appearances(all_star_path, output_csv_path)\n",
    "award_counter(award_path, output_csv_path)\n",
    "rings_appearances_counter(loses_path, wins_path, output_csv_path)\n",
    "hall_of_fame(output_csv_path, hof_path)\n",
    "reorder_columns(output_csv_path)"
   ]
  },
  {
   "cell_type": "markdown",
   "metadata": {},
   "source": [
    "Code for aggregating hitters (career stats + hof column)"
   ]
  },
  {
   "cell_type": "code",
   "execution_count": 4,
   "metadata": {},
   "outputs": [
    {
     "name": "stdout",
     "output_type": "stream",
     "text": [
      "Award totals successfully written to /Users/noahkornfeld/Desktop/hof_criteria/mlb/allhitters.csv\n",
      "Hall of Fame successfully written to /Users/noahkornfeld/Desktop/hof_criteria/dataset_combination_code/final_datasets/hitters_combined.csv\n",
      "Reordered Columns successfully written to /Users/noahkornfeld/Desktop/hof_criteria/dataset_combination_code/final_datasets/hitters_combined.csv\n",
      "Percentage totals successfully written to /Users/noahkornfeld/Desktop/hof_criteria/dataset_combination_code/final_datasets/hitters_combined.csv\n"
     ]
    }
   ],
   "source": [
    "from MLB_dataset_combo import aggregate_player_totals, hall_of_fame, award_counter, reorder_columns, calculate_columns\n",
    "hitters_path = '/Users/noahkornfeld/Desktop/hof_criteria/mlb/allhitters.csv'\n",
    "final_path = '/Users/noahkornfeld/Desktop/hof_criteria/dataset_combination_code/final_datasets/hitters_combined.csv'\n",
    "playoff_path = '/Users/noahkornfeld/Desktop/hof_criteria/mlb/playoff_results.csv'\n",
    "hof_path = '/Users/noahkornfeld/Desktop/hof_criteria/mlb/mlb_hof.csv'\n",
    "\n",
    "award_counter(hitters_path)\n",
    "sum_columns = ['G', 'PA', 'AB', 'R', 'H', '2B', '3B', 'HR', 'RBI', 'SB', 'CS','BB', 'SO', 'TB', 'HBP', 'SF', 'IBB', 'MVP', 'ROY', 'AS', 'GG' ]\n",
    "keep_columns = ['name', 'index'] \n",
    "max_columns = ['Age', 'index']\n",
    "concat_columns = ['Tm', 'Awards', 'Pos', 'Lg']\n",
    "year_column = 'Year'\n",
    "average_columns = ['BA', 'OBP', 'SLG', 'SLG', 'OPS', 'OPS+']\n",
    "\n",
    "aggregate_player_totals(hitters_path, final_path, sum_columns, keep_columns, max_columns, concat_columns,year_column, average_columns)\n",
    "\n",
    "hall_of_fame(final_path,hof_path)\n",
    "\n",
    "reorder_columns(final_path)\n",
    "calculate_columns(final_path)"
   ]
  },
  {
   "cell_type": "code",
   "execution_count": 1,
   "metadata": {},
   "outputs": [
    {
     "name": "stdout",
     "output_type": "stream",
     "text": [
      "Percentage totals successfully written to /Users/noahkornfeld/Desktop/hof_criteria/dataset_combination_code/final_datasets/hitters_combined.csv\n"
     ]
    }
   ],
   "source": [
    "from MLB_dataset_combo import aggregate_player_totals, hall_of_fame, award_counter, reorder_columns, calculate_columns\n",
    "final_path = '/Users/noahkornfeld/Desktop/hof_criteria/dataset_combination_code/final_datasets/hitters_combined.csv'\n",
    "calculate_columns(final_path)"
   ]
  },
  {
   "cell_type": "markdown",
   "metadata": {},
   "source": [
    "Code for aggregating pitchers (career totals + hof)\n"
   ]
  },
  {
   "cell_type": "code",
   "execution_count": 5,
   "metadata": {},
   "outputs": [
    {
     "name": "stdout",
     "output_type": "stream",
     "text": [
      "Award totals successfully written to /Users/noahkornfeld/Desktop/hof_criteria/mlb/pitcher_stat.csv\n",
      "Hall of Fame successfully written to /Users/noahkornfeld/Desktop/hof_criteria/mlb/pitchers_final.csv\n"
     ]
    }
   ],
   "source": [
    "from MLB_dataset_combo import pitcheraward_counter, aggregate_player_totals, pitcher_stats_calculator, hall_of_fame\n",
    "pitchers_path = '/Users/noahkornfeld/Desktop/hof_criteria/mlb/pitcher_stat.csv'\n",
    "final_path = '/Users/noahkornfeld/Desktop/hof_criteria/mlb/pitchers_final.csv'\n",
    "hof_path = '/Users/noahkornfeld/Desktop/hof_criteria/mlb/mlb_hof.csv'\n",
    "\n",
    "sum_columns = ['W', 'L', 'G', 'GS', 'GF', 'CG', 'SHO', 'IP', 'H', 'R', 'ER', 'HR',\n",
    "               'BB', 'IBB', 'SO', 'HBP', 'BK', 'WP', 'ROY', 'AS', 'GG', 'CY' ]\n",
    "keep_columns = ['name'] \n",
    "max_columns = ['Age', 'index']\n",
    "concat_columns = ['Tm', 'Awards', 'Lg']\n",
    "year_column = 'Year'\n",
    "average_columns = ['W-L%', 'ERA', 'FIP', 'WHIP', 'H9', 'HR9', 'BB9', 'SO9',]\n",
    "\n",
    "pitcheraward_counter(pitchers_path)\n",
    "aggregate_player_totals(pitchers_path, final_path, sum_columns, keep_columns, max_columns, concat_columns, year_column, average_columns)\n",
    "pitcher_stats_calculator(final_path)\n",
    "hall_of_fame(final_path, hof_path)"
   ]
  }
 ],
 "metadata": {
  "kernelspec": {
   "display_name": "Python 3",
   "language": "python",
   "name": "python3"
  },
  "language_info": {
   "codemirror_mode": {
    "name": "ipython",
    "version": 3
   },
   "file_extension": ".py",
   "mimetype": "text/x-python",
   "name": "python",
   "nbconvert_exporter": "python",
   "pygments_lexer": "ipython3",
   "version": "3.11.4"
  },
  "orig_nbformat": 4
 },
 "nbformat": 4,
 "nbformat_minor": 2
}
